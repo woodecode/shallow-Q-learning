{
 "cells": [
  {
   "attachments": {},
   "cell_type": "markdown",
   "metadata": {},
   "source": [
    "## 测试应用模型\n",
    "\n",
    "##### 包含库"
   ]
  },
  {
   "cell_type": "code",
   "execution_count": 2,
   "metadata": {},
   "outputs": [],
   "source": [
    "import gymnasium as gym\n",
    "import tensorflow as tf\n",
    "import numpy as np"
   ]
  },
  {
   "attachments": {},
   "cell_type": "markdown",
   "metadata": {},
   "source": [
    "##### 创建Gym环境及训练好的模型"
   ]
  },
  {
   "cell_type": "code",
   "execution_count": 3,
   "metadata": {},
   "outputs": [],
   "source": [
    "model = tf.saved_model.load('./save/shallow_q_learning_weights_google_colab/')\n",
    "\n",
    "# Create the CartPole-v1 environment\n",
    "env = gym.make('CartPole-v1', render_mode=\"human\")\n",
    "\n",
    "state_size = env.observation_space.shape[0]\n"
   ]
  },
  {
   "attachments": {},
   "cell_type": "markdown",
   "metadata": {},
   "source": [
    "##### 运行10次并输出每次得分。"
   ]
  },
  {
   "cell_type": "code",
   "execution_count": 4,
   "metadata": {},
   "outputs": [
    {
     "name": "stdout",
     "output_type": "stream",
     "text": [
      "Game Over,score: 70.0\n",
      "Game Over,score: 169.0\n",
      "Game Over,score: 118.0\n",
      "Game Over,score: 106.0\n",
      "Game Over,score: 121.0\n",
      "Game Over,score: 77.0\n",
      "Game Over,score: 126.0\n",
      "Game Over,score: 78.0\n",
      "Game Over,score: 182.0\n",
      "Game Over,score: 140.0\n",
      "Game Over,score: 130.0\n",
      "test over\n"
     ]
    }
   ],
   "source": [
    "\n",
    "# Start the environment\n",
    "state, _ = env.reset()\n",
    "\n",
    "# 计算总分数\n",
    "score = 0\n",
    "# 运行次数\n",
    "num = 10\n",
    "num_i = 0\n",
    "\n",
    "while True:\n",
    "\n",
    "    state = state = np.reshape(state, [1, state_size])\n",
    "\n",
    "    action = np.argmax(model(state)[0])\n",
    "\n",
    "    # Take action and get the next state\n",
    "    state, reward, done, info, _ = env.step(action)\n",
    "\n",
    "    score += reward\n",
    "\n",
    "    env.render()\n",
    "\n",
    "    # If the simulation is done, reset the environment\n",
    "    if done:\n",
    "        print('Game Over,score:',score)\n",
    "        score = 0\n",
    "        env.reset()\n",
    "        \n",
    "        if num_i >= num:\n",
    "            print('test over')\n",
    "            break\n",
    "        else:\n",
    "            num_i += 1\n",
    "\n",
    "env.close()"
   ]
  }
 ],
 "metadata": {
  "kernelspec": {
   "display_name": "reinforce",
   "language": "python",
   "name": "python3"
  },
  "language_info": {
   "codemirror_mode": {
    "name": "ipython",
    "version": 3
   },
   "file_extension": ".py",
   "mimetype": "text/x-python",
   "name": "python",
   "nbconvert_exporter": "python",
   "pygments_lexer": "ipython3",
   "version": "3.9.15"
  },
  "orig_nbformat": 4,
  "vscode": {
   "interpreter": {
    "hash": "5a42e376a94a89219a444f256bd7eae7dbde68caac86845e18b3e66c2ecdd2ad"
   }
  }
 },
 "nbformat": 4,
 "nbformat_minor": 2
}
