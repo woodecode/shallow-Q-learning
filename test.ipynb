{
 "cells": [
  {
   "attachments": {},
   "cell_type": "markdown",
   "metadata": {},
   "source": [
    "## 测试应用模型\n",
    "\n",
    "##### 包含库"
   ]
  },
  {
   "cell_type": "code",
   "execution_count": 1,
   "metadata": {},
   "outputs": [],
   "source": [
    "import gymnasium as gym\n",
    "import tensorflow as tf\n",
    "import numpy as np"
   ]
  },
  {
   "attachments": {},
   "cell_type": "markdown",
   "metadata": {},
   "source": [
    "##### 创建Gym环境及训练好的模型"
   ]
  },
  {
   "cell_type": "code",
   "execution_count": 8,
   "metadata": {},
   "outputs": [],
   "source": [
    "model = tf.saved_model.load('./save/shallow_q_learning_weights_google_colab/')\n",
    "\n",
    "# Create the CartPole-v1 environment\n",
    "env = gym.make('CartPole-v1', render_mode=\"human\")\n",
    "\n",
    "state_size = env.observation_space.shape[0]\n"
   ]
  },
  {
   "attachments": {},
   "cell_type": "markdown",
   "metadata": {},
   "source": [
    "##### 运行10次并输出每次得分。"
   ]
  },
  {
   "cell_type": "code",
   "execution_count": 17,
   "metadata": {},
   "outputs": [
    {
     "name": "stdout",
     "output_type": "stream",
     "text": [
      "Game Over,score: 168.0\n",
      "Game Over,score: 114.0\n",
      "Game Over,score: 123.0\n",
      "Game Over,score: 66.0\n",
      "Game Over,score: 166.0\n",
      "Game Over,score: 102.0\n",
      "Game Over,score: 151.0\n",
      "Game Over,score: 130.0\n",
      "Game Over,score: 61.0\n",
      "Game Over,score: 70.0\n",
      "Game Over,score: 77.0\n",
      "test over\n"
     ]
    },
    {
     "ename": "",
     "evalue": "",
     "output_type": "error",
     "traceback": [
      "\u001b[1;31mThe Kernel crashed while executing code in the the current cell or a previous cell. Please review the code in the cell(s) to identify a possible cause of the failure. Click <a href='https://aka.ms/vscodeJupyterKernelCrash'>here</a> for more info. View Jupyter <a href='command:jupyter.viewOutput'>log</a> for further details."
     ]
    }
   ],
   "source": [
    "\n",
    "# Start the environment\n",
    "state, _ = env.reset()\n",
    "\n",
    "# 计算总分数\n",
    "score = 0\n",
    "# 运行次数\n",
    "num = 10\n",
    "num_i = 0\n",
    "\n",
    "while True:\n",
    "\n",
    "    state = state = np.reshape(state, [1, state_size])\n",
    "\n",
    "    action = np.argmax(model(state)[0])\n",
    "\n",
    "    # Take action and get the next state\n",
    "    state, reward, done, info, _ = env.step(action)\n",
    "\n",
    "    score += reward\n",
    "\n",
    "    env.render()\n",
    "\n",
    "    # If the simulation is done, reset the environment\n",
    "    if done:\n",
    "        print('Game Over,score:',score)\n",
    "        score = 0\n",
    "        env.reset()\n",
    "        \n",
    "        if num_i >= num:\n",
    "            print('test over')\n",
    "            break\n",
    "        else:\n",
    "            num_i += 1\n"
   ]
  }
 ],
 "metadata": {
  "kernelspec": {
   "display_name": "reinforce",
   "language": "python",
   "name": "python3"
  },
  "language_info": {
   "codemirror_mode": {
    "name": "ipython",
    "version": 3
   },
   "file_extension": ".py",
   "mimetype": "text/x-python",
   "name": "python",
   "nbconvert_exporter": "python",
   "pygments_lexer": "ipython3",
   "version": "3.9.15"
  },
  "orig_nbformat": 4,
  "vscode": {
   "interpreter": {
    "hash": "5a42e376a94a89219a444f256bd7eae7dbde68caac86845e18b3e66c2ecdd2ad"
   }
  }
 },
 "nbformat": 4,
 "nbformat_minor": 2
}
