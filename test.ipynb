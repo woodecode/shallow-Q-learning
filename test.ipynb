{
 "cells": [
  {
   "cell_type": "code",
   "execution_count": null,
   "metadata": {},
   "outputs": [],
   "source": [
    "import tensorflow as tf;\n",
    "\n",
    "\n",
    "model = tf.keras.Sequential()\n",
    "model.add(units=5, )"
   ]
  },
  {
   "cell_type": "code",
   "execution_count": 2,
   "metadata": {},
   "outputs": [],
   "source": [
    "import gymnasium as gym\n",
    "import keyboard"
   ]
  },
  {
   "cell_type": "code",
   "execution_count": 3,
   "metadata": {},
   "outputs": [
    {
     "name": "stdout",
     "output_type": "stream",
     "text": [
      "over\n",
      "over\n",
      "over\n",
      "over\n",
      "over\n",
      "over\n",
      "over\n",
      "over\n",
      "over\n",
      "over\n",
      "over\n",
      "over\n"
     ]
    },
    {
     "ename": "KeyboardInterrupt",
     "evalue": "",
     "output_type": "error",
     "traceback": [
      "\u001b[1;31m---------------------------------------------------------------------------\u001b[0m",
      "\u001b[1;31mKeyboardInterrupt\u001b[0m                         Traceback (most recent call last)",
      "Cell \u001b[1;32mIn[3], line 9\u001b[0m\n\u001b[0;32m      5\u001b[0m env\u001b[39m.\u001b[39mreset()\n\u001b[0;32m      7\u001b[0m \u001b[39mwhile\u001b[39;00m \u001b[39mTrue\u001b[39;00m:\n\u001b[0;32m      8\u001b[0m     \u001b[39m# Wait for a key press\u001b[39;00m\n\u001b[1;32m----> 9\u001b[0m     key \u001b[39m=\u001b[39m keyboard\u001b[39m.\u001b[39;49mread_key()\n\u001b[0;32m     11\u001b[0m     \u001b[39m# Take action based on the key press\u001b[39;00m\n\u001b[0;32m     12\u001b[0m     \u001b[39mif\u001b[39;00m key \u001b[39m==\u001b[39m \u001b[39m'\u001b[39m\u001b[39mleft\u001b[39m\u001b[39m'\u001b[39m:\n",
      "File \u001b[1;32md:\\Software\\Anaconda3\\envs\\reinforce\\lib\\site-packages\\keyboard\\__init__.py:935\u001b[0m, in \u001b[0;36mread_key\u001b[1;34m(suppress)\u001b[0m\n\u001b[0;32m    930\u001b[0m \u001b[39mdef\u001b[39;00m \u001b[39mread_key\u001b[39m(suppress\u001b[39m=\u001b[39m\u001b[39mFalse\u001b[39;00m):\n\u001b[0;32m    931\u001b[0m     \u001b[39m\"\"\"\u001b[39;00m\n\u001b[0;32m    932\u001b[0m \u001b[39m    Blocks until a keyboard event happens, then returns that event's name or,\u001b[39;00m\n\u001b[0;32m    933\u001b[0m \u001b[39m    if missing, its scan code.\u001b[39;00m\n\u001b[0;32m    934\u001b[0m \u001b[39m    \"\"\"\u001b[39;00m\n\u001b[1;32m--> 935\u001b[0m     event \u001b[39m=\u001b[39m read_event(suppress)\n\u001b[0;32m    936\u001b[0m     \u001b[39mreturn\u001b[39;00m event\u001b[39m.\u001b[39mname \u001b[39mor\u001b[39;00m event\u001b[39m.\u001b[39mscan_code\n",
      "File \u001b[1;32md:\\Software\\Anaconda3\\envs\\reinforce\\lib\\site-packages\\keyboard\\__init__.py:926\u001b[0m, in \u001b[0;36mread_event\u001b[1;34m(suppress)\u001b[0m\n\u001b[0;32m    924\u001b[0m hooked \u001b[39m=\u001b[39m hook(queue\u001b[39m.\u001b[39mput, suppress\u001b[39m=\u001b[39msuppress)\n\u001b[0;32m    925\u001b[0m \u001b[39mwhile\u001b[39;00m \u001b[39mTrue\u001b[39;00m:\n\u001b[1;32m--> 926\u001b[0m     event \u001b[39m=\u001b[39m queue\u001b[39m.\u001b[39;49mget()\n\u001b[0;32m    927\u001b[0m     unhook(hooked)\n\u001b[0;32m    928\u001b[0m     \u001b[39mreturn\u001b[39;00m event\n",
      "File \u001b[1;32md:\\Software\\Anaconda3\\envs\\reinforce\\lib\\queue.py:171\u001b[0m, in \u001b[0;36mQueue.get\u001b[1;34m(self, block, timeout)\u001b[0m\n\u001b[0;32m    169\u001b[0m \u001b[39melif\u001b[39;00m timeout \u001b[39mis\u001b[39;00m \u001b[39mNone\u001b[39;00m:\n\u001b[0;32m    170\u001b[0m     \u001b[39mwhile\u001b[39;00m \u001b[39mnot\u001b[39;00m \u001b[39mself\u001b[39m\u001b[39m.\u001b[39m_qsize():\n\u001b[1;32m--> 171\u001b[0m         \u001b[39mself\u001b[39;49m\u001b[39m.\u001b[39;49mnot_empty\u001b[39m.\u001b[39;49mwait()\n\u001b[0;32m    172\u001b[0m \u001b[39melif\u001b[39;00m timeout \u001b[39m<\u001b[39m \u001b[39m0\u001b[39m:\n\u001b[0;32m    173\u001b[0m     \u001b[39mraise\u001b[39;00m \u001b[39mValueError\u001b[39;00m(\u001b[39m\"\u001b[39m\u001b[39m'\u001b[39m\u001b[39mtimeout\u001b[39m\u001b[39m'\u001b[39m\u001b[39m must be a non-negative number\u001b[39m\u001b[39m\"\u001b[39m)\n",
      "File \u001b[1;32md:\\Software\\Anaconda3\\envs\\reinforce\\lib\\threading.py:312\u001b[0m, in \u001b[0;36mCondition.wait\u001b[1;34m(self, timeout)\u001b[0m\n\u001b[0;32m    310\u001b[0m \u001b[39mtry\u001b[39;00m:    \u001b[39m# restore state no matter what (e.g., KeyboardInterrupt)\u001b[39;00m\n\u001b[0;32m    311\u001b[0m     \u001b[39mif\u001b[39;00m timeout \u001b[39mis\u001b[39;00m \u001b[39mNone\u001b[39;00m:\n\u001b[1;32m--> 312\u001b[0m         waiter\u001b[39m.\u001b[39;49macquire()\n\u001b[0;32m    313\u001b[0m         gotit \u001b[39m=\u001b[39m \u001b[39mTrue\u001b[39;00m\n\u001b[0;32m    314\u001b[0m     \u001b[39melse\u001b[39;00m:\n",
      "\u001b[1;31mKeyboardInterrupt\u001b[0m: "
     ]
    }
   ],
   "source": [
    "\n",
    "\n",
    "# Create the CartPole-v1 environment\n",
    "env = gym.make('CartPole-v1', render_mode=\"rgb_array\")\n",
    "\n",
    "# Start the environment\n",
    "env.reset()\n",
    "\n",
    "while True:\n",
    "    # Wait for a key press\n",
    "    key = keyboard.read_key()\n",
    "\n",
    "    # Take action based on the key press\n",
    "    if key == 'left':\n",
    "        action = 0\n",
    "    elif key == 'right':\n",
    "        action = 1\n",
    "    else:\n",
    "        continue\n",
    "\n",
    "    # Take action and get the next state\n",
    "    state, reward, done, info, _ = env.step(action)\n",
    "\n",
    "    env.render()\n",
    "\n",
    "    # If the simulation is done, reset the environment\n",
    "    if done:\n",
    "        print('over')\n",
    "        env.reset()\n"
   ]
  },
  {
   "cell_type": "code",
   "execution_count": 10,
   "metadata": {},
   "outputs": [
    {
     "ename": "AttributeError",
     "evalue": "module 'gymnasium.wrappers' has no attribute 'Render'",
     "output_type": "error",
     "traceback": [
      "\u001b[1;31m---------------------------------------------------------------------------\u001b[0m",
      "\u001b[1;31mAttributeError\u001b[0m                            Traceback (most recent call last)",
      "Cell \u001b[1;32mIn[10], line 8\u001b[0m\n\u001b[0;32m      5\u001b[0m env \u001b[39m=\u001b[39m gym\u001b[39m.\u001b[39mmake(\u001b[39m'\u001b[39m\u001b[39mCartPole-v1\u001b[39m\u001b[39m'\u001b[39m)\n\u001b[0;32m      7\u001b[0m \u001b[39m# Wrap the environment with the Render wrapper\u001b[39;00m\n\u001b[1;32m----> 8\u001b[0m env \u001b[39m=\u001b[39m wrappers\u001b[39m.\u001b[39;49mRender(env)\n",
      "\u001b[1;31mAttributeError\u001b[0m: module 'gymnasium.wrappers' has no attribute 'Render'"
     ]
    }
   ],
   "source": [
    "import gymnasium\n",
    "from gymnasium import wrappers\n",
    "\n",
    "# Create the CartPole-v1 environment\n",
    "env = gym.make('CartPole-v1')\n",
    "\n",
    "# Wrap the environment with the Render wrapper\n",
    "env = wrappers.Render(env)\n"
   ]
  }
 ],
 "metadata": {
  "kernelspec": {
   "display_name": "reinforce",
   "language": "python",
   "name": "python3"
  },
  "language_info": {
   "codemirror_mode": {
    "name": "ipython",
    "version": 3
   },
   "file_extension": ".py",
   "mimetype": "text/x-python",
   "name": "python",
   "nbconvert_exporter": "python",
   "pygments_lexer": "ipython3",
   "version": "3.9.15"
  },
  "orig_nbformat": 4,
  "vscode": {
   "interpreter": {
    "hash": "5a42e376a94a89219a444f256bd7eae7dbde68caac86845e18b3e66c2ecdd2ad"
   }
  }
 },
 "nbformat": 4,
 "nbformat_minor": 2
}
